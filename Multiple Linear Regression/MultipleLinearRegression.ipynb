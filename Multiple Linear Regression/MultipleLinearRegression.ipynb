{
 "cells": [
  {
   "cell_type": "code",
   "execution_count": 1,
   "metadata": {},
   "outputs": [],
   "source": [
    "import numpy as np\n",
    "import pandas as pd\n",
    "import matplotlib.pyplot as plt"
   ]
  },
  {
   "cell_type": "code",
   "execution_count": 2,
   "metadata": {},
   "outputs": [],
   "source": [
    "data = pd.read_csv('kc_house_data.csv')"
   ]
  },
  {
   "cell_type": "code",
   "execution_count": 3,
   "metadata": {},
   "outputs": [
    {
     "data": {
      "text/html": [
       "<div>\n",
       "<style scoped>\n",
       "    .dataframe tbody tr th:only-of-type {\n",
       "        vertical-align: middle;\n",
       "    }\n",
       "\n",
       "    .dataframe tbody tr th {\n",
       "        vertical-align: top;\n",
       "    }\n",
       "\n",
       "    .dataframe thead th {\n",
       "        text-align: right;\n",
       "    }\n",
       "</style>\n",
       "<table border=\"1\" class=\"dataframe\">\n",
       "  <thead>\n",
       "    <tr style=\"text-align: right;\">\n",
       "      <th></th>\n",
       "      <th>id</th>\n",
       "      <th>date</th>\n",
       "      <th>price</th>\n",
       "      <th>bedrooms</th>\n",
       "      <th>bathrooms</th>\n",
       "      <th>sqft_living</th>\n",
       "      <th>sqft_lot</th>\n",
       "      <th>floors</th>\n",
       "      <th>waterfront</th>\n",
       "      <th>view</th>\n",
       "      <th>...</th>\n",
       "      <th>grade</th>\n",
       "      <th>sqft_above</th>\n",
       "      <th>sqft_basement</th>\n",
       "      <th>yr_built</th>\n",
       "      <th>yr_renovated</th>\n",
       "      <th>zipcode</th>\n",
       "      <th>lat</th>\n",
       "      <th>long</th>\n",
       "      <th>sqft_living15</th>\n",
       "      <th>sqft_lot15</th>\n",
       "    </tr>\n",
       "  </thead>\n",
       "  <tbody>\n",
       "    <tr>\n",
       "      <th>0</th>\n",
       "      <td>7129300520</td>\n",
       "      <td>20141013T000000</td>\n",
       "      <td>221900.0</td>\n",
       "      <td>3</td>\n",
       "      <td>1.00</td>\n",
       "      <td>1180</td>\n",
       "      <td>5650</td>\n",
       "      <td>1.0</td>\n",
       "      <td>0</td>\n",
       "      <td>0</td>\n",
       "      <td>...</td>\n",
       "      <td>7</td>\n",
       "      <td>1180</td>\n",
       "      <td>0</td>\n",
       "      <td>1955</td>\n",
       "      <td>0</td>\n",
       "      <td>98178</td>\n",
       "      <td>47.5112</td>\n",
       "      <td>-122.257</td>\n",
       "      <td>1340</td>\n",
       "      <td>5650</td>\n",
       "    </tr>\n",
       "    <tr>\n",
       "      <th>1</th>\n",
       "      <td>6414100192</td>\n",
       "      <td>20141209T000000</td>\n",
       "      <td>538000.0</td>\n",
       "      <td>3</td>\n",
       "      <td>2.25</td>\n",
       "      <td>2570</td>\n",
       "      <td>7242</td>\n",
       "      <td>2.0</td>\n",
       "      <td>0</td>\n",
       "      <td>0</td>\n",
       "      <td>...</td>\n",
       "      <td>7</td>\n",
       "      <td>2170</td>\n",
       "      <td>400</td>\n",
       "      <td>1951</td>\n",
       "      <td>1991</td>\n",
       "      <td>98125</td>\n",
       "      <td>47.7210</td>\n",
       "      <td>-122.319</td>\n",
       "      <td>1690</td>\n",
       "      <td>7639</td>\n",
       "    </tr>\n",
       "    <tr>\n",
       "      <th>2</th>\n",
       "      <td>5631500400</td>\n",
       "      <td>20150225T000000</td>\n",
       "      <td>180000.0</td>\n",
       "      <td>2</td>\n",
       "      <td>1.00</td>\n",
       "      <td>770</td>\n",
       "      <td>10000</td>\n",
       "      <td>1.0</td>\n",
       "      <td>0</td>\n",
       "      <td>0</td>\n",
       "      <td>...</td>\n",
       "      <td>6</td>\n",
       "      <td>770</td>\n",
       "      <td>0</td>\n",
       "      <td>1933</td>\n",
       "      <td>0</td>\n",
       "      <td>98028</td>\n",
       "      <td>47.7379</td>\n",
       "      <td>-122.233</td>\n",
       "      <td>2720</td>\n",
       "      <td>8062</td>\n",
       "    </tr>\n",
       "    <tr>\n",
       "      <th>3</th>\n",
       "      <td>2487200875</td>\n",
       "      <td>20141209T000000</td>\n",
       "      <td>604000.0</td>\n",
       "      <td>4</td>\n",
       "      <td>3.00</td>\n",
       "      <td>1960</td>\n",
       "      <td>5000</td>\n",
       "      <td>1.0</td>\n",
       "      <td>0</td>\n",
       "      <td>0</td>\n",
       "      <td>...</td>\n",
       "      <td>7</td>\n",
       "      <td>1050</td>\n",
       "      <td>910</td>\n",
       "      <td>1965</td>\n",
       "      <td>0</td>\n",
       "      <td>98136</td>\n",
       "      <td>47.5208</td>\n",
       "      <td>-122.393</td>\n",
       "      <td>1360</td>\n",
       "      <td>5000</td>\n",
       "    </tr>\n",
       "    <tr>\n",
       "      <th>4</th>\n",
       "      <td>1954400510</td>\n",
       "      <td>20150218T000000</td>\n",
       "      <td>510000.0</td>\n",
       "      <td>3</td>\n",
       "      <td>2.00</td>\n",
       "      <td>1680</td>\n",
       "      <td>8080</td>\n",
       "      <td>1.0</td>\n",
       "      <td>0</td>\n",
       "      <td>0</td>\n",
       "      <td>...</td>\n",
       "      <td>8</td>\n",
       "      <td>1680</td>\n",
       "      <td>0</td>\n",
       "      <td>1987</td>\n",
       "      <td>0</td>\n",
       "      <td>98074</td>\n",
       "      <td>47.6168</td>\n",
       "      <td>-122.045</td>\n",
       "      <td>1800</td>\n",
       "      <td>7503</td>\n",
       "    </tr>\n",
       "  </tbody>\n",
       "</table>\n",
       "<p>5 rows × 21 columns</p>\n",
       "</div>"
      ],
      "text/plain": [
       "           id             date     price  bedrooms  bathrooms  sqft_living  \\\n",
       "0  7129300520  20141013T000000  221900.0         3       1.00         1180   \n",
       "1  6414100192  20141209T000000  538000.0         3       2.25         2570   \n",
       "2  5631500400  20150225T000000  180000.0         2       1.00          770   \n",
       "3  2487200875  20141209T000000  604000.0         4       3.00         1960   \n",
       "4  1954400510  20150218T000000  510000.0         3       2.00         1680   \n",
       "\n",
       "   sqft_lot  floors  waterfront  view     ...      grade  sqft_above  \\\n",
       "0      5650     1.0           0     0     ...          7        1180   \n",
       "1      7242     2.0           0     0     ...          7        2170   \n",
       "2     10000     1.0           0     0     ...          6         770   \n",
       "3      5000     1.0           0     0     ...          7        1050   \n",
       "4      8080     1.0           0     0     ...          8        1680   \n",
       "\n",
       "   sqft_basement  yr_built  yr_renovated  zipcode      lat     long  \\\n",
       "0              0      1955             0    98178  47.5112 -122.257   \n",
       "1            400      1951          1991    98125  47.7210 -122.319   \n",
       "2              0      1933             0    98028  47.7379 -122.233   \n",
       "3            910      1965             0    98136  47.5208 -122.393   \n",
       "4              0      1987             0    98074  47.6168 -122.045   \n",
       "\n",
       "   sqft_living15  sqft_lot15  \n",
       "0           1340        5650  \n",
       "1           1690        7639  \n",
       "2           2720        8062  \n",
       "3           1360        5000  \n",
       "4           1800        7503  \n",
       "\n",
       "[5 rows x 21 columns]"
      ]
     },
     "execution_count": 3,
     "metadata": {},
     "output_type": "execute_result"
    }
   ],
   "source": [
    "data.head()"
   ]
  },
  {
   "cell_type": "code",
   "execution_count": 4,
   "metadata": {},
   "outputs": [
    {
     "data": {
      "text/plain": [
       "Index([u'id', u'date', u'price', u'bedrooms', u'bathrooms', u'sqft_living',\n",
       "       u'sqft_lot', u'floors', u'waterfront', u'view', u'condition', u'grade',\n",
       "       u'sqft_above', u'sqft_basement', u'yr_built', u'yr_renovated',\n",
       "       u'zipcode', u'lat', u'long', u'sqft_living15', u'sqft_lot15'],\n",
       "      dtype='object')"
      ]
     },
     "execution_count": 4,
     "metadata": {},
     "output_type": "execute_result"
    }
   ],
   "source": [
    "data.columns"
   ]
  },
  {
   "cell_type": "code",
   "execution_count": 5,
   "metadata": {},
   "outputs": [],
   "source": [
    "X = data[['bedrooms' , 'bathrooms' , 'sqft_living' , 'sqft_lot', 'floors', 'waterfront', 'view', 'condition', 'grade',\n",
    "       'sqft_above', 'sqft_basement', 'sqft_living15', 'sqft_lot15']]\n",
    "y = data['price']"
   ]
  },
  {
   "cell_type": "code",
   "execution_count": 6,
   "metadata": {},
   "outputs": [],
   "source": [
    "from sklearn.model_selection import train_test_split"
   ]
  },
  {
   "cell_type": "code",
   "execution_count": 7,
   "metadata": {},
   "outputs": [],
   "source": [
    "X_train , X_test , y_train, y_test = train_test_split(X , y , test_size= 0.2 ,random_state = 0)"
   ]
  },
  {
   "cell_type": "code",
   "execution_count": 8,
   "metadata": {},
   "outputs": [],
   "source": [
    "from sklearn.linear_model import LinearRegression"
   ]
  },
  {
   "cell_type": "code",
   "execution_count": 9,
   "metadata": {},
   "outputs": [
    {
     "data": {
      "text/plain": [
       "LinearRegression(copy_X=True, fit_intercept=True, n_jobs=1, normalize=False)"
      ]
     },
     "execution_count": 9,
     "metadata": {},
     "output_type": "execute_result"
    }
   ],
   "source": [
    "regressor = LinearRegression()\n",
    "regressor.fit(X_train,y_train)"
   ]
  },
  {
   "cell_type": "code",
   "execution_count": 10,
   "metadata": {},
   "outputs": [
    {
     "data": {
      "text/plain": [
       "array([ 359622.74661447, 1434019.46294519,  380146.93500396, ...,\n",
       "        292185.23511423,  139244.69629275,  363972.11056735])"
      ]
     },
     "execution_count": 10,
     "metadata": {},
     "output_type": "execute_result"
    }
   ],
   "source": [
    "y_pred = regressor.predict(X_test)\n",
    "y_pred"
   ]
  },
  {
   "cell_type": "code",
   "execution_count": 11,
   "metadata": {},
   "outputs": [],
   "source": [
    "from sklearn.metrics import confusion_matrix\n",
    "cm = confusion_matrix(np.rint(y_test),np.rint(y_pred))"
   ]
  },
  {
   "cell_type": "code",
   "execution_count": 12,
   "metadata": {},
   "outputs": [],
   "source": [
    "# plt.plot(X_test['sqft_living'] , y_test)\n",
    "# plt.plot(X_test['sqft_living'] , y_pred)\n",
    "# plt.show()"
   ]
  },
  {
   "cell_type": "code",
   "execution_count": 13,
   "metadata": {},
   "outputs": [
    {
     "data": {
      "image/png": "[encoded data removed]",
      "text/plain": [
       "<Figure size 1440x1080 with 20 Axes>"
      ]
     },
     "metadata": {
      "needs_background": "light"
     },
     "output_type": "display_data"
    }
   ],
   "source": [
    "import matplotlib.pyplot as plt\n",
    "data.hist(bins=50, figsize=(20,15))\n",
    "plt.savefig(\"attribute_histogram_plots\")\n",
    "plt.show()"
   ]
  },
  {
   "cell_type": "code",
   "execution_count": 14,
   "metadata": {},
   "outputs": [
    {
     "data": {
      "text/plain": [
       "<matplotlib.axes._subplots.AxesSubplot at 0x7f5f940c44d0>"
      ]
     },
     "execution_count": 14,
     "metadata": {},
     "output_type": "execute_result"
    },
    {
     "data": {
      "image/png": "[encoded data removed]",
      "text/plain": [
       "<Figure size 432x288 with 2 Axes>"
      ]
     },
     "metadata": {
      "needs_background": "light"
     },
     "output_type": "display_data"
    }
   ],
   "source": [
    "import seaborn as sns\n",
    "sns.heatmap(X.corr(),square=False , annot=True)"
   ]
  },
  {
   "cell_type": "code",
   "execution_count": 15,
   "metadata": {},
   "outputs": [
    {
     "data": {
      "text/plain": [
       "array([-3.36599493e+04, -1.56028758e+04,  1.36518579e+02,  4.21698538e-02,\n",
       "       -1.02681175e+03,  6.09127547e+05,  6.00156195e+04,  5.46885367e+04,\n",
       "        9.77485848e+04,  5.42284703e+01,  8.22901093e+01,  1.26698885e+01,\n",
       "       -7.87548263e-01])"
      ]
     },
     "execution_count": 15,
     "metadata": {},
     "output_type": "execute_result"
    }
   ],
   "source": [
    "regressor.coef_"
   ]
  },
  {
   "cell_type": "code",
   "execution_count": 16,
   "metadata": {},
   "outputs": [
    {
     "data": {
      "text/plain": [
       "-684534.6570550172"
      ]
     },
     "execution_count": 16,
     "metadata": {},
     "output_type": "execute_result"
    }
   ],
   "source": [
    "regressor.intercept_"
   ]
  },
  {
   "cell_type": "code",
   "execution_count": 17,
   "metadata": {},
   "outputs": [
    {
     "data": {
      "text/plain": [
       "Index([u'bedrooms', u'bathrooms', u'sqft_living', u'sqft_lot', u'floors',\n",
       "       u'waterfront', u'view', u'condition', u'grade', u'sqft_above',\n",
       "       u'sqft_basement', u'sqft_living15', u'sqft_lot15'],\n",
       "      dtype='object')"
      ]
     },
     "execution_count": 17,
     "metadata": {},
     "output_type": "execute_result"
    }
   ],
   "source": [
    "X.columns"
   ]
  },
  {
   "cell_type": "code",
   "execution_count": 18,
   "metadata": {},
   "outputs": [
    {
     "data": {
      "text/plain": [
       "1277207.5713018407"
      ]
     },
     "execution_count": 18,
     "metadata": {},
     "output_type": "execute_result"
    }
   ],
   "source": [
    "test = [[3,2,2000,10000,2,1,0,4,8,2000,900,3000,10000]]\n",
    "y_output_temp = 0\n",
    "for i in range(0,13):\n",
    "    y_output_temp = y_output_temp + regressor.coef_[i] * test[0][i]\n",
    "y_output = y_output_temp + regressor.intercept_\n",
    "y_output"
   ]
  },
  {
   "cell_type": "code",
   "execution_count": 19,
   "metadata": {},
   "outputs": [],
   "source": [
    "from sklearn import metrics"
   ]
  },
  {
   "cell_type": "code",
   "execution_count": 20,
   "metadata": {},
   "outputs": [
    {
     "data": {
      "text/plain": [
       "219457.87446601436"
      ]
     },
     "execution_count": 20,
     "metadata": {},
     "output_type": "execute_result"
    }
   ],
   "source": [
    "np.sqrt(metrics.mean_squared_error(y_test,y_pred))"
   ]
  },
  {
   "cell_type": "code",
   "execution_count": 21,
   "metadata": {},
   "outputs": [],
   "source": [
    "X = np.append(arr = np.ones((21613,1),dtype = int),values=X,axis=1)"
   ]
  },
  {
   "cell_type": "code",
   "execution_count": 22,
   "metadata": {},
   "outputs": [
    {
     "data": {
      "text/plain": [
       "(21613, 14)"
      ]
     },
     "execution_count": 22,
     "metadata": {},
     "output_type": "execute_result"
    }
   ],
   "source": [
    "X.shape"
   ]
  },
  {
   "cell_type": "code",
   "execution_count": 23,
   "metadata": {},
   "outputs": [],
   "source": [
    "import statsmodels.formula.api as sm"
   ]
  },
  {
   "cell_type": "code",
   "execution_count": 24,
   "metadata": {},
   "outputs": [
    {
     "data": {
      "text/html": [
       "<table class=\"simpletable\">\n",
       "<caption>OLS Regression Results</caption>\n",
       "<tr>\n",
       "  <th>Dep. Variable:</th>          <td>price</td>      <th>  R-squared:         </th>  <td>   0.607</td>  \n",
       "</tr>\n",
       "<tr>\n",
       "  <th>Model:</th>                   <td>OLS</td>       <th>  Adj. R-squared:    </th>  <td>   0.607</td>  \n",
       "</tr>\n",
       "<tr>\n",
       "  <th>Method:</th>             <td>Least Squares</td>  <th>  F-statistic:       </th>  <td>   2781.</td>  \n",
       "</tr>\n",
       "<tr>\n",
       "  <th>Date:</th>             <td>Mon, 10 Dec 2018</td> <th>  Prob (F-statistic):</th>   <td>  0.00</td>   \n",
       "</tr>\n",
       "<tr>\n",
       "  <th>Time:</th>                 <td>17:37:35</td>     <th>  Log-Likelihood:    </th> <td>-2.9751e+05</td>\n",
       "</tr>\n",
       "<tr>\n",
       "  <th>No. Observations:</th>      <td> 21613</td>      <th>  AIC:               </th>  <td>5.950e+05</td> \n",
       "</tr>\n",
       "<tr>\n",
       "  <th>Df Residuals:</th>          <td> 21600</td>      <th>  BIC:               </th>  <td>5.952e+05</td> \n",
       "</tr>\n",
       "<tr>\n",
       "  <th>Df Model:</th>              <td>    12</td>      <th>                     </th>      <td> </td>     \n",
       "</tr>\n",
       "<tr>\n",
       "  <th>Covariance Type:</th>      <td>nonrobust</td>    <th>                     </th>      <td> </td>     \n",
       "</tr>\n",
       "</table>\n",
       "<table class=\"simpletable\">\n",
       "<tr>\n",
       "    <td></td>       <th>coef</th>     <th>std err</th>      <th>t</th>      <th>P>|t|</th>  <th>[0.025</th>    <th>0.975]</th>  \n",
       "</tr>\n",
       "<tr>\n",
       "  <th>const</th> <td>-6.897e+05</td> <td> 1.74e+04</td> <td>  -39.668</td> <td> 0.000</td> <td>-7.24e+05</td> <td>-6.56e+05</td>\n",
       "</tr>\n",
       "<tr>\n",
       "  <th>x1</th>    <td>-3.464e+04</td> <td> 2155.773</td> <td>  -16.068</td> <td> 0.000</td> <td>-3.89e+04</td> <td>-3.04e+04</td>\n",
       "</tr>\n",
       "<tr>\n",
       "  <th>x2</th>    <td>-1.485e+04</td> <td> 3479.741</td> <td>   -4.267</td> <td> 0.000</td> <td>-2.17e+04</td> <td>-8028.122</td>\n",
       "</tr>\n",
       "<tr>\n",
       "  <th>x3</th>    <td>  133.9896</td> <td>    2.547</td> <td>   52.601</td> <td> 0.000</td> <td>  128.997</td> <td>  138.983</td>\n",
       "</tr>\n",
       "<tr>\n",
       "  <th>x4</th>    <td>    0.0270</td> <td>    0.055</td> <td>    0.495</td> <td> 0.621</td> <td>   -0.080</td> <td>    0.134</td>\n",
       "</tr>\n",
       "<tr>\n",
       "  <th>x5</th>    <td>-3000.1039</td> <td> 3982.925</td> <td>   -0.753</td> <td> 0.451</td> <td>-1.08e+04</td> <td> 4806.723</td>\n",
       "</tr>\n",
       "<tr>\n",
       "  <th>x6</th>    <td> 5.857e+05</td> <td> 1.98e+04</td> <td>   29.551</td> <td> 0.000</td> <td> 5.47e+05</td> <td> 6.25e+05</td>\n",
       "</tr>\n",
       "<tr>\n",
       "  <th>x7</th>    <td> 5.981e+04</td> <td> 2398.651</td> <td>   24.937</td> <td> 0.000</td> <td> 5.51e+04</td> <td> 6.45e+04</td>\n",
       "</tr>\n",
       "<tr>\n",
       "  <th>x8</th>    <td> 5.381e+04</td> <td> 2528.411</td> <td>   21.282</td> <td> 0.000</td> <td> 4.89e+04</td> <td> 5.88e+04</td>\n",
       "</tr>\n",
       "<tr>\n",
       "  <th>x9</th>    <td> 1.008e+05</td> <td> 2365.550</td> <td>   42.613</td> <td> 0.000</td> <td> 9.62e+04</td> <td> 1.05e+05</td>\n",
       "</tr>\n",
       "<tr>\n",
       "  <th>x10</th>   <td>   52.2177</td> <td>    2.509</td> <td>   20.808</td> <td> 0.000</td> <td>   47.299</td> <td>   57.136</td>\n",
       "</tr>\n",
       "<tr>\n",
       "  <th>x11</th>   <td>   81.7719</td> <td>    2.925</td> <td>   27.957</td> <td> 0.000</td> <td>   76.039</td> <td>   87.505</td>\n",
       "</tr>\n",
       "<tr>\n",
       "  <th>x12</th>   <td>   11.0791</td> <td>    3.823</td> <td>    2.898</td> <td> 0.004</td> <td>    3.586</td> <td>   18.572</td>\n",
       "</tr>\n",
       "<tr>\n",
       "  <th>x13</th>   <td>   -0.7497</td> <td>    0.083</td> <td>   -8.994</td> <td> 0.000</td> <td>   -0.913</td> <td>   -0.586</td>\n",
       "</tr>\n",
       "</table>\n",
       "<table class=\"simpletable\">\n",
       "<tr>\n",
       "  <th>Omnibus:</th>       <td>15701.272</td> <th>  Durbin-Watson:     </th>  <td>   1.982</td> \n",
       "</tr>\n",
       "<tr>\n",
       "  <th>Prob(Omnibus):</th>  <td> 0.000</td>   <th>  Jarque-Bera (JB):  </th> <td>947595.612</td>\n",
       "</tr>\n",
       "<tr>\n",
       "  <th>Skew:</th>           <td> 2.907</td>   <th>  Prob(JB):          </th>  <td>    0.00</td> \n",
       "</tr>\n",
       "<tr>\n",
       "  <th>Kurtosis:</th>       <td>34.913</td>   <th>  Cond. No.          </th>  <td>2.31e+17</td> \n",
       "</tr>\n",
       "</table><br/><br/>Warnings:<br/>[1] Standard Errors assume that the covariance matrix of the errors is correctly specified.<br/>[2] The smallest eigenvalue is 1.03e-21. This might indicate that there are<br/>strong multicollinearity problems or that the design matrix is singular."
      ],
      "text/plain": [
       "<class 'statsmodels.iolib.summary.Summary'>\n",
       "\"\"\"\n",
       "                            OLS Regression Results                            \n",
       "==============================================================================\n",
       "Dep. Variable:                  price   R-squared:                       0.607\n",
       "Model:                            OLS   Adj. R-squared:                  0.607\n",
       "Method:                 Least Squares   F-statistic:                     2781.\n",
       "Date:                Mon, 10 Dec 2018   Prob (F-statistic):               0.00\n",
       "Time:                        17:37:35   Log-Likelihood:            -2.9751e+05\n",
       "No. Observations:               21613   AIC:                         5.950e+05\n",
       "Df Residuals:                   21600   BIC:                         5.952e+05\n",
       "Df Model:                          12                                         \n",
       "Covariance Type:            nonrobust                                         \n",
       "==============================================================================\n",
       "                 coef    std err          t      P>|t|      [0.025      0.975]\n",
       "------------------------------------------------------------------------------\n",
       "const      -6.897e+05   1.74e+04    -39.668      0.000   -7.24e+05   -6.56e+05\n",
       "x1         -3.464e+04   2155.773    -16.068      0.000   -3.89e+04   -3.04e+04\n",
       "x2         -1.485e+04   3479.741     -4.267      0.000   -2.17e+04   -8028.122\n",
       "x3           133.9896      2.547     52.601      0.000     128.997     138.983\n",
       "x4             0.0270      0.055      0.495      0.621      -0.080       0.134\n",
       "x5         -3000.1039   3982.925     -0.753      0.451   -1.08e+04    4806.723\n",
       "x6          5.857e+05   1.98e+04     29.551      0.000    5.47e+05    6.25e+05\n",
       "x7          5.981e+04   2398.651     24.937      0.000    5.51e+04    6.45e+04\n",
       "x8          5.381e+04   2528.411     21.282      0.000    4.89e+04    5.88e+04\n",
       "x9          1.008e+05   2365.550     42.613      0.000    9.62e+04    1.05e+05\n",
       "x10           52.2177      2.509     20.808      0.000      47.299      57.136\n",
       "x11           81.7719      2.925     27.957      0.000      76.039      87.505\n",
       "x12           11.0791      3.823      2.898      0.004       3.586      18.572\n",
       "x13           -0.7497      0.083     -8.994      0.000      -0.913      -0.586\n",
       "==============================================================================\n",
       "Omnibus:                    15701.272   Durbin-Watson:                   1.982\n",
       "Prob(Omnibus):                  0.000   Jarque-Bera (JB):           947595.612\n",
       "Skew:                           2.907   Prob(JB):                         0.00\n",
       "Kurtosis:                      34.913   Cond. No.                     2.31e+17\n",
       "==============================================================================\n",
       "\n",
       "Warnings:\n",
       "[1] Standard Errors assume that the covariance matrix of the errors is correctly specified.\n",
       "[2] The smallest eigenvalue is 1.03e-21. This might indicate that there are\n",
       "strong multicollinearity problems or that the design matrix is singular.\n",
       "\"\"\""
      ]
     },
     "execution_count": 24,
     "metadata": {},
     "output_type": "execute_result"
    }
   ],
   "source": [
    "X_opt = X[:,[0, 1, 2, 3, 4, 5, 6,7 ,8 ,9 ,10 ,11 ,12, 13]]\n",
    "regressor_OLS = sm.OLS(endog=y , exog=X_opt).fit()\n",
    "regressor_OLS.summary()"
   ]
  },
  {
   "cell_type": "code",
   "execution_count": 25,
   "metadata": {},
   "outputs": [
    {
     "data": {
      "text/html": [
       "<table class=\"simpletable\">\n",
       "<caption>OLS Regression Results</caption>\n",
       "<tr>\n",
       "  <th>Dep. Variable:</th>          <td>price</td>      <th>  R-squared:         </th>  <td>   0.607</td>  \n",
       "</tr>\n",
       "<tr>\n",
       "  <th>Model:</th>                   <td>OLS</td>       <th>  Adj. R-squared:    </th>  <td>   0.607</td>  \n",
       "</tr>\n",
       "<tr>\n",
       "  <th>Method:</th>             <td>Least Squares</td>  <th>  F-statistic:       </th>  <td>   3034.</td>  \n",
       "</tr>\n",
       "<tr>\n",
       "  <th>Date:</th>             <td>Mon, 10 Dec 2018</td> <th>  Prob (F-statistic):</th>   <td>  0.00</td>   \n",
       "</tr>\n",
       "<tr>\n",
       "  <th>Time:</th>                 <td>17:37:35</td>     <th>  Log-Likelihood:    </th> <td>-2.9751e+05</td>\n",
       "</tr>\n",
       "<tr>\n",
       "  <th>No. Observations:</th>      <td> 21613</td>      <th>  AIC:               </th>  <td>5.950e+05</td> \n",
       "</tr>\n",
       "<tr>\n",
       "  <th>Df Residuals:</th>          <td> 21601</td>      <th>  BIC:               </th>  <td>5.951e+05</td> \n",
       "</tr>\n",
       "<tr>\n",
       "  <th>Df Model:</th>              <td>    11</td>      <th>                     </th>      <td> </td>     \n",
       "</tr>\n",
       "<tr>\n",
       "  <th>Covariance Type:</th>      <td>nonrobust</td>    <th>                     </th>      <td> </td>     \n",
       "</tr>\n",
       "</table>\n",
       "<table class=\"simpletable\">\n",
       "<tr>\n",
       "    <td></td>       <th>coef</th>     <th>std err</th>      <th>t</th>      <th>P>|t|</th>  <th>[0.025</th>    <th>0.975]</th>  \n",
       "</tr>\n",
       "<tr>\n",
       "  <th>const</th> <td>-6.896e+05</td> <td> 1.74e+04</td> <td>  -39.666</td> <td> 0.000</td> <td>-7.24e+05</td> <td>-6.56e+05</td>\n",
       "</tr>\n",
       "<tr>\n",
       "  <th>x1</th>    <td>-3.466e+04</td> <td> 2155.145</td> <td>  -16.084</td> <td> 0.000</td> <td>-3.89e+04</td> <td>-3.04e+04</td>\n",
       "</tr>\n",
       "<tr>\n",
       "  <th>x2</th>    <td>-1.484e+04</td> <td> 3479.666</td> <td>   -4.266</td> <td> 0.000</td> <td>-2.17e+04</td> <td>-8023.339</td>\n",
       "</tr>\n",
       "<tr>\n",
       "  <th>x3</th>    <td>  134.0517</td> <td>    2.544</td> <td>   52.690</td> <td> 0.000</td> <td>  129.065</td> <td>  139.038</td>\n",
       "</tr>\n",
       "<tr>\n",
       "  <th>x4</th>    <td>-3077.6270</td> <td> 3979.770</td> <td>   -0.773</td> <td> 0.439</td> <td>-1.09e+04</td> <td> 4723.016</td>\n",
       "</tr>\n",
       "<tr>\n",
       "  <th>x5</th>    <td> 5.855e+05</td> <td> 1.98e+04</td> <td>   29.547</td> <td> 0.000</td> <td> 5.47e+05</td> <td> 6.24e+05</td>\n",
       "</tr>\n",
       "<tr>\n",
       "  <th>x6</th>    <td> 5.985e+04</td> <td> 2397.393</td> <td>   24.965</td> <td> 0.000</td> <td> 5.52e+04</td> <td> 6.46e+04</td>\n",
       "</tr>\n",
       "<tr>\n",
       "  <th>x7</th>    <td>  5.38e+04</td> <td> 2528.281</td> <td>   21.279</td> <td> 0.000</td> <td> 4.88e+04</td> <td> 5.88e+04</td>\n",
       "</tr>\n",
       "<tr>\n",
       "  <th>x8</th>    <td> 1.008e+05</td> <td> 2365.508</td> <td>   42.614</td> <td> 0.000</td> <td> 9.62e+04</td> <td> 1.05e+05</td>\n",
       "</tr>\n",
       "<tr>\n",
       "  <th>x9</th>    <td>   52.3105</td> <td>    2.502</td> <td>   20.904</td> <td> 0.000</td> <td>   47.406</td> <td>   57.215</td>\n",
       "</tr>\n",
       "<tr>\n",
       "  <th>x10</th>   <td>   81.7411</td> <td>    2.924</td> <td>   27.953</td> <td> 0.000</td> <td>   76.009</td> <td>   87.473</td>\n",
       "</tr>\n",
       "<tr>\n",
       "  <th>x11</th>   <td>   10.9789</td> <td>    3.817</td> <td>    2.876</td> <td> 0.004</td> <td>    3.497</td> <td>   18.461</td>\n",
       "</tr>\n",
       "<tr>\n",
       "  <th>x12</th>   <td>   -0.7208</td> <td>    0.059</td> <td>  -12.133</td> <td> 0.000</td> <td>   -0.837</td> <td>   -0.604</td>\n",
       "</tr>\n",
       "</table>\n",
       "<table class=\"simpletable\">\n",
       "<tr>\n",
       "  <th>Omnibus:</th>       <td>15697.060</td> <th>  Durbin-Watson:     </th>  <td>   1.982</td> \n",
       "</tr>\n",
       "<tr>\n",
       "  <th>Prob(Omnibus):</th>  <td> 0.000</td>   <th>  Jarque-Bera (JB):  </th> <td>946452.223</td>\n",
       "</tr>\n",
       "<tr>\n",
       "  <th>Skew:</th>           <td> 2.906</td>   <th>  Prob(JB):          </th>  <td>    0.00</td> \n",
       "</tr>\n",
       "<tr>\n",
       "  <th>Kurtosis:</th>       <td>34.894</td>   <th>  Cond. No.          </th>  <td>1.37e+17</td> \n",
       "</tr>\n",
       "</table><br/><br/>Warnings:<br/>[1] Standard Errors assume that the covariance matrix of the errors is correctly specified.<br/>[2] The smallest eigenvalue is 1.05e-21. This might indicate that there are<br/>strong multicollinearity problems or that the design matrix is singular."
      ],
      "text/plain": [
       "<class 'statsmodels.iolib.summary.Summary'>\n",
       "\"\"\"\n",
       "                            OLS Regression Results                            \n",
       "==============================================================================\n",
       "Dep. Variable:                  price   R-squared:                       0.607\n",
       "Model:                            OLS   Adj. R-squared:                  0.607\n",
       "Method:                 Least Squares   F-statistic:                     3034.\n",
       "Date:                Mon, 10 Dec 2018   Prob (F-statistic):               0.00\n",
       "Time:                        17:37:35   Log-Likelihood:            -2.9751e+05\n",
       "No. Observations:               21613   AIC:                         5.950e+05\n",
       "Df Residuals:                   21601   BIC:                         5.951e+05\n",
       "Df Model:                          11                                         \n",
       "Covariance Type:            nonrobust                                         \n",
       "==============================================================================\n",
       "                 coef    std err          t      P>|t|      [0.025      0.975]\n",
       "------------------------------------------------------------------------------\n",
       "const      -6.896e+05   1.74e+04    -39.666      0.000   -7.24e+05   -6.56e+05\n",
       "x1         -3.466e+04   2155.145    -16.084      0.000   -3.89e+04   -3.04e+04\n",
       "x2         -1.484e+04   3479.666     -4.266      0.000   -2.17e+04   -8023.339\n",
       "x3           134.0517      2.544     52.690      0.000     129.065     139.038\n",
       "x4         -3077.6270   3979.770     -0.773      0.439   -1.09e+04    4723.016\n",
       "x5          5.855e+05   1.98e+04     29.547      0.000    5.47e+05    6.24e+05\n",
       "x6          5.985e+04   2397.393     24.965      0.000    5.52e+04    6.46e+04\n",
       "x7           5.38e+04   2528.281     21.279      0.000    4.88e+04    5.88e+04\n",
       "x8          1.008e+05   2365.508     42.614      0.000    9.62e+04    1.05e+05\n",
       "x9            52.3105      2.502     20.904      0.000      47.406      57.215\n",
       "x10           81.7411      2.924     27.953      0.000      76.009      87.473\n",
       "x11           10.9789      3.817      2.876      0.004       3.497      18.461\n",
       "x12           -0.7208      0.059    -12.133      0.000      -0.837      -0.604\n",
       "==============================================================================\n",
       "Omnibus:                    15697.060   Durbin-Watson:                   1.982\n",
       "Prob(Omnibus):                  0.000   Jarque-Bera (JB):           946452.223\n",
       "Skew:                           2.906   Prob(JB):                         0.00\n",
       "Kurtosis:                      34.894   Cond. No.                     1.37e+17\n",
       "==============================================================================\n",
       "\n",
       "Warnings:\n",
       "[1] Standard Errors assume that the covariance matrix of the errors is correctly specified.\n",
       "[2] The smallest eigenvalue is 1.05e-21. This might indicate that there are\n",
       "strong multicollinearity problems or that the design matrix is singular.\n",
       "\"\"\""
      ]
     },
     "execution_count": 25,
     "metadata": {},
     "output_type": "execute_result"
    }
   ],
   "source": [
    "X_opt = X[:,[0, 1, 2, 3, 5, 6,7 ,8 ,9 ,10 ,11 ,12, 13]]\n",
    "regressor_OLS = sm.OLS(endog=y , exog=X_opt).fit()\n",
    "regressor_OLS.summary()"
   ]
  },
  {
   "cell_type": "code",
   "execution_count": 26,
   "metadata": {},
   "outputs": [
    {
     "data": {
      "text/html": [
       "<table class=\"simpletable\">\n",
       "<caption>OLS Regression Results</caption>\n",
       "<tr>\n",
       "  <th>Dep. Variable:</th>          <td>price</td>      <th>  R-squared:         </th>  <td>   0.607</td>  \n",
       "</tr>\n",
       "<tr>\n",
       "  <th>Model:</th>                   <td>OLS</td>       <th>  Adj. R-squared:    </th>  <td>   0.607</td>  \n",
       "</tr>\n",
       "<tr>\n",
       "  <th>Method:</th>             <td>Least Squares</td>  <th>  F-statistic:       </th>  <td>   3337.</td>  \n",
       "</tr>\n",
       "<tr>\n",
       "  <th>Date:</th>             <td>Mon, 10 Dec 2018</td> <th>  Prob (F-statistic):</th>   <td>  0.00</td>   \n",
       "</tr>\n",
       "<tr>\n",
       "  <th>Time:</th>                 <td>17:37:35</td>     <th>  Log-Likelihood:    </th> <td>-2.9751e+05</td>\n",
       "</tr>\n",
       "<tr>\n",
       "  <th>No. Observations:</th>      <td> 21613</td>      <th>  AIC:               </th>  <td>5.950e+05</td> \n",
       "</tr>\n",
       "<tr>\n",
       "  <th>Df Residuals:</th>          <td> 21602</td>      <th>  BIC:               </th>  <td>5.951e+05</td> \n",
       "</tr>\n",
       "<tr>\n",
       "  <th>Df Model:</th>              <td>    10</td>      <th>                     </th>      <td> </td>     \n",
       "</tr>\n",
       "<tr>\n",
       "  <th>Covariance Type:</th>      <td>nonrobust</td>    <th>                     </th>      <td> </td>     \n",
       "</tr>\n",
       "</table>\n",
       "<table class=\"simpletable\">\n",
       "<tr>\n",
       "    <td></td>       <th>coef</th>     <th>std err</th>      <th>t</th>      <th>P>|t|</th>  <th>[0.025</th>    <th>0.975]</th>  \n",
       "</tr>\n",
       "<tr>\n",
       "  <th>const</th> <td>-6.917e+05</td> <td> 1.72e+04</td> <td>  -40.303</td> <td> 0.000</td> <td>-7.25e+05</td> <td>-6.58e+05</td>\n",
       "</tr>\n",
       "<tr>\n",
       "  <th>x1</th>    <td>-3.459e+04</td> <td> 2152.745</td> <td>  -16.066</td> <td> 0.000</td> <td>-3.88e+04</td> <td>-3.04e+04</td>\n",
       "</tr>\n",
       "<tr>\n",
       "  <th>x2</th>    <td>-1.578e+04</td> <td> 3261.813</td> <td>   -4.838</td> <td> 0.000</td> <td>-2.22e+04</td> <td>-9387.450</td>\n",
       "</tr>\n",
       "<tr>\n",
       "  <th>x3</th>    <td>  134.3306</td> <td>    2.518</td> <td>   53.339</td> <td> 0.000</td> <td>  129.394</td> <td>  139.267</td>\n",
       "</tr>\n",
       "<tr>\n",
       "  <th>x4</th>    <td> 5.855e+05</td> <td> 1.98e+04</td> <td>   29.544</td> <td> 0.000</td> <td> 5.47e+05</td> <td> 6.24e+05</td>\n",
       "</tr>\n",
       "<tr>\n",
       "  <th>x5</th>    <td> 5.982e+04</td> <td> 2396.947</td> <td>   24.956</td> <td> 0.000</td> <td> 5.51e+04</td> <td> 6.45e+04</td>\n",
       "</tr>\n",
       "<tr>\n",
       "  <th>x6</th>    <td> 5.407e+04</td> <td> 2503.338</td> <td>   21.600</td> <td> 0.000</td> <td> 4.92e+04</td> <td>  5.9e+04</td>\n",
       "</tr>\n",
       "<tr>\n",
       "  <th>x7</th>    <td> 1.005e+05</td> <td> 2335.464</td> <td>   43.038</td> <td> 0.000</td> <td> 9.59e+04</td> <td> 1.05e+05</td>\n",
       "</tr>\n",
       "<tr>\n",
       "  <th>x8</th>    <td>   51.6322</td> <td>    2.344</td> <td>   22.031</td> <td> 0.000</td> <td>   47.039</td> <td>   56.226</td>\n",
       "</tr>\n",
       "<tr>\n",
       "  <th>x9</th>    <td>   82.6984</td> <td>    2.649</td> <td>   31.215</td> <td> 0.000</td> <td>   77.506</td> <td>   87.891</td>\n",
       "</tr>\n",
       "<tr>\n",
       "  <th>x10</th>   <td>   11.4088</td> <td>    3.776</td> <td>    3.021</td> <td> 0.003</td> <td>    4.007</td> <td>   18.811</td>\n",
       "</tr>\n",
       "<tr>\n",
       "  <th>x11</th>   <td>   -0.7163</td> <td>    0.059</td> <td>  -12.116</td> <td> 0.000</td> <td>   -0.832</td> <td>   -0.600</td>\n",
       "</tr>\n",
       "</table>\n",
       "<table class=\"simpletable\">\n",
       "<tr>\n",
       "  <th>Omnibus:</th>       <td>15719.317</td> <th>  Durbin-Watson:     </th>  <td>   1.982</td> \n",
       "</tr>\n",
       "<tr>\n",
       "  <th>Prob(Omnibus):</th>  <td> 0.000</td>   <th>  Jarque-Bera (JB):  </th> <td>951214.729</td>\n",
       "</tr>\n",
       "<tr>\n",
       "  <th>Skew:</th>           <td> 2.911</td>   <th>  Prob(JB):          </th>  <td>    0.00</td> \n",
       "</tr>\n",
       "<tr>\n",
       "  <th>Kurtosis:</th>       <td>34.974</td>   <th>  Cond. No.          </th>  <td>1.23e+17</td> \n",
       "</tr>\n",
       "</table><br/><br/>Warnings:<br/>[1] Standard Errors assume that the covariance matrix of the errors is correctly specified.<br/>[2] The smallest eigenvalue is 1.29e-21. This might indicate that there are<br/>strong multicollinearity problems or that the design matrix is singular."
      ],
      "text/plain": [
       "<class 'statsmodels.iolib.summary.Summary'>\n",
       "\"\"\"\n",
       "                            OLS Regression Results                            \n",
       "==============================================================================\n",
       "Dep. Variable:                  price   R-squared:                       0.607\n",
       "Model:                            OLS   Adj. R-squared:                  0.607\n",
       "Method:                 Least Squares   F-statistic:                     3337.\n",
       "Date:                Mon, 10 Dec 2018   Prob (F-statistic):               0.00\n",
       "Time:                        17:37:35   Log-Likelihood:            -2.9751e+05\n",
       "No. Observations:               21613   AIC:                         5.950e+05\n",
       "Df Residuals:                   21602   BIC:                         5.951e+05\n",
       "Df Model:                          10                                         \n",
       "Covariance Type:            nonrobust                                         \n",
       "==============================================================================\n",
       "                 coef    std err          t      P>|t|      [0.025      0.975]\n",
       "------------------------------------------------------------------------------\n",
       "const      -6.917e+05   1.72e+04    -40.303      0.000   -7.25e+05   -6.58e+05\n",
       "x1         -3.459e+04   2152.745    -16.066      0.000   -3.88e+04   -3.04e+04\n",
       "x2         -1.578e+04   3261.813     -4.838      0.000   -2.22e+04   -9387.450\n",
       "x3           134.3306      2.518     53.339      0.000     129.394     139.267\n",
       "x4          5.855e+05   1.98e+04     29.544      0.000    5.47e+05    6.24e+05\n",
       "x5          5.982e+04   2396.947     24.956      0.000    5.51e+04    6.45e+04\n",
       "x6          5.407e+04   2503.338     21.600      0.000    4.92e+04     5.9e+04\n",
       "x7          1.005e+05   2335.464     43.038      0.000    9.59e+04    1.05e+05\n",
       "x8            51.6322      2.344     22.031      0.000      47.039      56.226\n",
       "x9            82.6984      2.649     31.215      0.000      77.506      87.891\n",
       "x10           11.4088      3.776      3.021      0.003       4.007      18.811\n",
       "x11           -0.7163      0.059    -12.116      0.000      -0.832      -0.600\n",
       "==============================================================================\n",
       "Omnibus:                    15719.317   Durbin-Watson:                   1.982\n",
       "Prob(Omnibus):                  0.000   Jarque-Bera (JB):           951214.729\n",
       "Skew:                           2.911   Prob(JB):                         0.00\n",
       "Kurtosis:                      34.974   Cond. No.                     1.23e+17\n",
       "==============================================================================\n",
       "\n",
       "Warnings:\n",
       "[1] Standard Errors assume that the covariance matrix of the errors is correctly specified.\n",
       "[2] The smallest eigenvalue is 1.29e-21. This might indicate that there are\n",
       "strong multicollinearity problems or that the design matrix is singular.\n",
       "\"\"\""
      ]
     },
     "execution_count": 26,
     "metadata": {},
     "output_type": "execute_result"
    }
   ],
   "source": [
    "X_opt = X[:,[0, 1, 2, 3, 6,7 ,8 ,9 ,10 ,11 ,12, 13]]\n",
    "regressor_OLS = sm.OLS(endog=y , exog=X_opt).fit()\n",
    "regressor_OLS.summary()"
   ]
  },
  {
   "cell_type": "code",
   "execution_count": 27,
   "metadata": {},
   "outputs": [],
   "source": [
    "X_train_OLS , X_test_OLS , y_train_OLS, y_test_OLS = train_test_split(X_opt[:,1:] , y , test_size= 0.2 ,random_state = 0)"
   ]
  },
  {
   "cell_type": "code",
   "execution_count": 28,
   "metadata": {},
   "outputs": [],
   "source": [
    "regressor_after_OLS = LinearRegression()\n",
    "regressor_after_OLS.fit(X_train_OLS,y_train_OLS)\n",
    "y_pred_OLS = regressor_after_OLS.predict(X_test_OLS)"
   ]
  },
  {
   "cell_type": "code",
   "execution_count": 31,
   "metadata": {},
   "outputs": [
    {
     "name": "stdout",
     "output_type": "stream",
     "text": [
      "('Train score: ', 0.6093533572247429)\n",
      "('Test score: ', 0.5950216137548459)\n"
     ]
    }
   ],
   "source": [
    "print('Train score: ',regressor.score(X_train,y_train))\n",
    "print('Test score: ',regressor.score(X_test,y_test))"
   ]
  },
  {
   "cell_type": "code",
   "execution_count": 30,
   "metadata": {},
   "outputs": [
    {
     "name": "stdout",
     "output_type": "stream",
     "text": [
      "('Train score: ', 0.6093415572494041)\n",
      "('Test score: ', 0.5950213335452688)\n"
     ]
    }
   ],
   "source": [
    "print('Train score: ',regressor_after_OLS.score(X_train_OLS,y_train_OLS))\n",
    "print('Test score: ',regressor_after_OLS.score(X_test_OLS,y_test_OLS))"
   ]
  },
  {
   "cell_type": "code",
   "execution_count": 33,
   "metadata": {},
   "outputs": [
    {
     "data": {
      "text/plain": [
       "(17290, 11)"
      ]
     },
     "execution_count": 33,
     "metadata": {},
     "output_type": "execute_result"
    }
   ],
   "source": []
  },
  {
   "cell_type": "code",
   "execution_count": null,
   "metadata": {},
   "outputs": [],
   "source": []
  }
 ],
 "metadata": {
  "kernelspec": {
   "display_name": "Python 2",
   "language": "python",
   "name": "python2"
  },
  "language_info": {
   "codemirror_mode": {
    "name": "ipython",
    "version": 2
   },
   "file_extension": ".py",
   "mimetype": "text/x-python",
   "name": "python",
   "nbconvert_exporter": "python",
   "pygments_lexer": "ipython2",
   "version": "2.7.15"
  }
 },
 "nbformat": 4,
 "nbformat_minor": 2
}
